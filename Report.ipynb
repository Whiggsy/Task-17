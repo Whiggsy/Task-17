{
 "cells": [
  {
   "cell_type": "code",
   "execution_count": 232,
   "metadata": {
    "id": "h0LVvvnfJsg5"
   },
   "outputs": [],
   "source": [
    "# Import pandas\n",
    "import pandas as pd\n",
    "import numpy as np"
   ]
  },
  {
   "cell_type": "code",
   "execution_count": 233,
   "metadata": {
    "id": "rv2oLRnPK36J"
   },
   "outputs": [],
   "source": [
    "# Create a DataFrame with balance.txt\n",
    "df = pd.read_csv(\"balance.txt\", sep=\" \", header=None, names=[\"Balance\", \"Income\", \"Limit\", \"Rating\", \"Cards\", \"Age\", \"Education\", \"Gender\", \"Student\", \"Married\", \"Ethnicity\"])"
   ]
  },
  {
   "cell_type": "markdown",
   "metadata": {
    "id": "_LXpBJXZLYoh"
   },
   "source": [
    "Write the code needed to produce a report that provides the following information:\n",
    "* Compare the average income based on ethnicity. \n",
    "* On average, do married or single people have a higher balance?\n",
    "* What is the highest income in our dataset?\n",
    "* What is the lowest income in our dataset?\n",
    "* How many cards do we have recorded in our dataset? (Hint: use `sum()`)\n",
    "* How many females do we have information for vs how many males? (Hint: use `count()`For a list of all methods for computation of descriptive stats, explore the [pandas documentation](https://pandas.pydata.org/pandas-docs/stable/reference/frame.html#computations-descriptive-stats)). \n",
    "\n",
    "\n"
   ]
  },
  {
   "cell_type": "code",
   "execution_count": 234,
   "metadata": {},
   "outputs": [
    {
     "name": "stdout",
     "output_type": "stream",
     "text": [
      "              Balance   Income Limit Rating Cards Age Education  Gender  \\\n",
      "1    12.2407984760474   14.891  3606    283     2  34        11    Male   \n",
      "2    23.2833339223376  106.025  6645    483     3  82        15  Female   \n",
      "3    22.5304088790893  104.593  7075    514     4  71        11    Male   \n",
      "4     27.652810710665  148.924  9504    681     3  36        11  Female   \n",
      "5    16.8939784904888   55.882  4897    357     2  68        16    Male   \n",
      "..                ...      ...   ...    ...   ...  ..       ...     ...   \n",
      "396  8.76498389979819   12.096  4100    307     3  32        13    Male   \n",
      "397  9.94383770023455   13.364  3838    296     5  65        17    Male   \n",
      "398   14.882078455256   57.872  4171    321     5  67        12  Female   \n",
      "399  12.0010707267157   37.728  2525    192     1  44        13    Male   \n",
      "400  10.1595983903564   18.701  5524    415     5  64         7  Female   \n",
      "\n",
      "    Student Married         Ethnicity  \n",
      "1        No     Yes         Caucasian  \n",
      "2       Yes     Yes             Asian  \n",
      "3        No      No             Asian  \n",
      "4        No      No             Asian  \n",
      "5        No     Yes         Caucasian  \n",
      "..      ...     ...               ...  \n",
      "396      No     Yes         Caucasian  \n",
      "397      No      No  African American  \n",
      "398      No     Yes         Caucasian  \n",
      "399      No     Yes         Caucasian  \n",
      "400      No      No             Asian  \n",
      "\n",
      "[400 rows x 11 columns]\n",
      "Ethnicity\n",
      "African American    47.682098\n",
      "Asian               44.187836\n",
      "Caucasian           44.521946\n",
      "Name: Income, dtype: float32\n",
      "Mean balance for married individuals:  13.388474\n",
      "Mean balance for single individuals:  13.493509\n",
      "Single individuals have a higher balance.\n",
      "The maximum income is: 186.634\n",
      "The minimum income is: 10.354\n"
     ]
    }
   ],
   "source": [
    "\n",
    "# Group the data by ethnicity and calculate the average income\n",
    "df = df.iloc[1:,:]\n",
    "print(df)\n",
    "df[\"Income\"] = pd.to_numeric(df[\"Income\"], downcast=\"float\")\n",
    "ethnicity_income = df.groupby('Ethnicity')['Income'].mean()\n",
    "print(ethnicity_income)\n",
    "\n",
    "#############\n",
    "\n",
    "df[\"Balance\"] = pd.to_numeric(df[\"Balance\"], downcast=\"float\")\n",
    "married_group = df.groupby(\"Married\")[\"Balance\"]\n",
    "\n",
    "# calculate the mean balance for married and single individuals\n",
    "married_balance = df.loc[df[\"Married\"] == \"Yes\", \"Balance\"].mean()\n",
    "single_balance = df.loc[df[\"Married\"] == \"No\", \"Balance\"].mean()\n",
    "\n",
    "# print the mean balance for married and single individuals\n",
    "print(\"Mean balance for married individuals: \", married_balance)\n",
    "print(\"Mean balance for single individuals: \", single_balance)\n",
    "\n",
    "# determine which group has a higher balance\n",
    "if married_balance > single_balance:\n",
    "    print(\"Married individuals have a higher balance.\")\n",
    "else:\n",
    "    print(\"Single individuals have a higher balance.\")\n",
    "\n",
    "#################\n",
    "\n",
    "# get the max value in the \"Income\" column\n",
    "max_income = df['Income'].max()\n",
    "print(\"The maximum income is:\", max_income)\n",
    "\n",
    "###############\n",
    "\n",
    "# get the max value in the \"Income\" column\n",
    "min_income = df['Income'].min()\n",
    "print(\"The minimum income is:\", min_income)"
   ]
  },
  {
   "cell_type": "code",
   "execution_count": null,
   "metadata": {},
   "outputs": [],
   "source": []
  }
 ],
 "metadata": {
  "colab": {
   "authorship_tag": "ABX9TyP5J3xG1JXUCQAkP9OLQqdU",
   "provenance": []
  },
  "kernelspec": {
   "display_name": "Python 3 (ipykernel)",
   "language": "python",
   "name": "python3"
  },
  "language_info": {
   "codemirror_mode": {
    "name": "ipython",
    "version": 3
   },
   "file_extension": ".py",
   "mimetype": "text/x-python",
   "name": "python",
   "nbconvert_exporter": "python",
   "pygments_lexer": "ipython3",
   "version": "3.11.2"
  }
 },
 "nbformat": 4,
 "nbformat_minor": 1
}
